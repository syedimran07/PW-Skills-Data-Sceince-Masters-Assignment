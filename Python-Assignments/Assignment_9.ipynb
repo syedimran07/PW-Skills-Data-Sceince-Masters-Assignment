{
 "cells": [
  {
   "cell_type": "markdown",
   "id": "878138aa",
   "metadata": {},
   "source": [
    "### Q1, Create a vehicle class with an init method having instance variables as name_of_vehicle, max_speed and average_of_vehicle."
   ]
  },
  {
   "cell_type": "code",
   "execution_count": 1,
   "id": "bb75b506",
   "metadata": {},
   "outputs": [
    {
     "name": "stdout",
     "output_type": "stream",
     "text": [
      "TATA\n",
      "120\n",
      "50\n"
     ]
    }
   ],
   "source": [
    "class vehicle:\n",
    "    def __init__(self,name_of_vehicle,max_speed,average_of_vehicle):\n",
    "        self.name_of_vehicle = name_of_vehicle\n",
    "        self.max_speed = max_speed\n",
    "        self.average_of_vehicle = average_of_vehicle\n",
    "        \n",
    "veh_obj = vehicle(\"TATA\", 120, 50)\n",
    "print(veh_obj.name_of_vehicle)\n",
    "print(veh_obj.max_speed)\n",
    "print(veh_obj.average_of_vehicle)"
   ]
  },
  {
   "cell_type": "markdown",
   "id": "fbc8a177",
   "metadata": {},
   "source": [
    "### Q2. Create a child class car from the vehicle class created in Que 1, which will inherit the vehicle class. Create a method named seating_capacity which takes capacity as an argument and returns the name of the vehicle and its seating capacity."
   ]
  },
  {
   "cell_type": "code",
   "execution_count": 2,
   "id": "32156310",
   "metadata": {},
   "outputs": [
    {
     "name": "stdout",
     "output_type": "stream",
     "text": [
      "Honda has capactiy of 6 people\n"
     ]
    }
   ],
   "source": [
    "class Vehicle:\n",
    "    def __init__(self, car_name, model, color):\n",
    "        self.car_name = car_name\n",
    "        self.model = model\n",
    "        self.color = color\n",
    "    def display_info(self):\n",
    "        return f\"Name: {self.car_name}, Model: {self.model}, Color: {self.color}\"\n",
    "        \n",
    "    \n",
    "class Car(Vehicle):\n",
    "    def seating_capacity(self, capacity):\n",
    "        return f\"{self.car_name} has capactiy of {capacity} people\"\n",
    "\n",
    "car_obj = Car(\"Honda\", 2023, \"Red\")\n",
    "print(car_obj.seating_capacity(6))\n"
   ]
  },
  {
   "cell_type": "markdown",
   "id": "2d33abfa",
   "metadata": {},
   "source": [
    "### Q3. What is multiple inheritance? Write a python code to demonstrate multiple inheritance.\n",
    "\n",
    "Ans: If child class inherits properties of more than one parent class is called Multiple inheritance. "
   ]
  },
  {
   "cell_type": "code",
   "execution_count": 3,
   "id": "6affdb89",
   "metadata": {},
   "outputs": [
    {
     "name": "stdout",
     "output_type": "stream",
     "text": [
      "Father : Hari\n",
      "Mother : Sirisha\n",
      "Hari\n"
     ]
    }
   ],
   "source": [
    "class Mother:\n",
    "    def mother(self):\n",
    "        print(self.mothername)\n",
    "\n",
    "class Father:\n",
    "    def father(self):\n",
    "        print(self.fathername)\n",
    "\n",
    "class Son(Mother, Father):\n",
    "    def parents(self):\n",
    "        print(\"Father :\", self.fathername)\n",
    "        print(\"Mother :\", self.mothername)\n",
    "\n",
    "\n",
    "\n",
    "s1 = Son()\n",
    "s1.fathername = \"Hari\"\n",
    "s1.mothername = \"Sirisha\"\n",
    "s1.parents()\n",
    "s1.father()"
   ]
  },
  {
   "cell_type": "markdown",
   "id": "e20b4598",
   "metadata": {},
   "source": [
    "### Q4. What are getter and setter in python? Create a class and create a getter and a setter method in this class.\n",
    "\n",
    "Ans: Getters and setters are used to protect your data, particularly when creating classes. For each instance variable, a getter method returns its value while a setter method sets or updates its value. Given this, getters and setters are also known as accessors and mutators, respectively."
   ]
  },
  {
   "cell_type": "code",
   "execution_count": 4,
   "id": "092d3c81",
   "metadata": {},
   "outputs": [
    {
     "name": "stdout",
     "output_type": "stream",
     "text": [
      "Name: Imran\n",
      "Age: 26\n",
      "Name must be at least 5 characters long.\n",
      "Age cannot be negative.\n",
      "Name: Imran Basha\n",
      "Age: 25\n"
     ]
    }
   ],
   "source": [
    "class Person:\n",
    "    def __init__(self, name, age):\n",
    "        self._name = name  \n",
    "        self._age = age\n",
    "\n",
    "    # Getter method for the 'name' attribute\n",
    "    def get_name(self):\n",
    "        return self._name\n",
    "\n",
    "    # Setter method for the 'name' attribute\n",
    "    def set_name(self, name):\n",
    "        if len(name) >= 5:\n",
    "            self._name = name\n",
    "        else:\n",
    "            print(\"Name must be at least 5 characters long.\")\n",
    "\n",
    "    # Getter method for the 'age' attribute\n",
    "    def get_age(self):\n",
    "        return self._age\n",
    "\n",
    "    # Setter method for the 'age' attribute\n",
    "    def set_age(self, age):\n",
    "        if age >= 0:\n",
    "            self._age = age\n",
    "        else:\n",
    "            print(\"Age cannot be negative.\")\n",
    "\n",
    "# Create an instance of the Person class\n",
    "person = Person(\"Imran\", 26)\n",
    "\n",
    "# Using the getter and setter methods\n",
    "print(\"Name:\", person.get_name())\n",
    "print(\"Age:\", person.get_age())\n",
    "\n",
    "person.set_name(\"Immu\")\n",
    "person.set_age(-5) \n",
    "\n",
    "\n",
    "person._name = \"Imran Basha\"\n",
    "person._age = 25\n",
    "\n",
    "print(\"Name:\", person.get_name()) \n",
    "print(\"Age:\", person.get_age()) \n"
   ]
  },
  {
   "cell_type": "markdown",
   "id": "3e9ce671",
   "metadata": {},
   "source": [
    "### Q5.What is method overriding in python? Write a python code to demonstrate method overriding.\n",
    "\n",
    "Ans : Method overriding is an ability of any object-oriented programming language that allows a subclass or child class to provide a specific implementation of a method that is already provided by one of its super-classes or parent classes"
   ]
  },
  {
   "cell_type": "code",
   "execution_count": 5,
   "id": "08b42807",
   "metadata": {},
   "outputs": [
    {
     "name": "stdout",
     "output_type": "stream",
     "text": [
      "Dog barks\n",
      "Cat meows\n"
     ]
    }
   ],
   "source": [
    "class Animal:\n",
    "    def speak(self):\n",
    "        print(\"Animal speaks\")\n",
    "\n",
    "class Dog(Animal):\n",
    "    def speak(self):\n",
    "        print(\"Dog barks\")\n",
    "\n",
    "class Cat(Animal):\n",
    "    def speak(self):\n",
    "        print(\"Cat meows\")\n",
    "\n",
    "\n",
    "dog = Dog()\n",
    "cat = Cat()\n",
    "\n",
    "\n",
    "dog.speak()\n",
    "cat.speak() \n"
   ]
  },
  {
   "cell_type": "code",
   "execution_count": null,
   "id": "50b84b02",
   "metadata": {},
   "outputs": [],
   "source": []
  }
 ],
 "metadata": {
  "kernelspec": {
   "display_name": "Python 3 (ipykernel)",
   "language": "python",
   "name": "python3"
  },
  "language_info": {
   "codemirror_mode": {
    "name": "ipython",
    "version": 3
   },
   "file_extension": ".py",
   "mimetype": "text/x-python",
   "name": "python",
   "nbconvert_exporter": "python",
   "pygments_lexer": "ipython3",
   "version": "3.10.13"
  }
 },
 "nbformat": 4,
 "nbformat_minor": 5
}
