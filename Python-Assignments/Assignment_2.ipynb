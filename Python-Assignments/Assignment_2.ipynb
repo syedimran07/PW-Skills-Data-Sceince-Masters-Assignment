{
 "cells": [
  {
   "cell_type": "markdown",
   "id": "34de0ba7",
   "metadata": {},
   "source": [
    "### Q1. Which keyword is used to create a function? Create a function to return a list of odd numbers in the range of 1 to 25 \n",
    "\n",
    "Ans: \"def\" keyword is used to create a function."
   ]
  },
  {
   "cell_type": "code",
   "execution_count": 2,
   "id": "7824c2b6",
   "metadata": {},
   "outputs": [
    {
     "data": {
      "text/plain": [
       "[1, 3, 5, 7, 9, 11, 13, 15, 17, 19, 21, 23]"
      ]
     },
     "execution_count": 2,
     "metadata": {},
     "output_type": "execute_result"
    }
   ],
   "source": [
    "def find_odd_number():\n",
    "    odd_list = []\n",
    "    for i in range(1,25):\n",
    "        if i % 2 == 1:\n",
    "            odd_list.append(i)\n",
    "    return odd_list\n",
    "find_odd_number()"
   ]
  },
  {
   "cell_type": "markdown",
   "id": "c703cbbe",
   "metadata": {},
   "source": [
    "### Q2. Why *args and **kwargs is used in some functions? Create a function each for *args and **kwargs to demonstrate their use.\n",
    "\n",
    "Ans: 1. *args\" is used to get n number of argument to function. It is used when we don't know how many argument passing to function and these argument stored in tuple.\n",
    "     2. \"**kwargs\" is used to get n number of argument in key-value paired to function. It is used when we want to pass named arguments to a function without knowing in advance which and how many arguments will be passed. These argument stored in dictinaory."
   ]
  },
  {
   "cell_type": "code",
   "execution_count": 7,
   "id": "237a4ee5",
   "metadata": {},
   "outputs": [
    {
     "data": {
      "text/plain": [
       "(1, 2, 3, 4, 'abc')"
      ]
     },
     "execution_count": 7,
     "metadata": {},
     "output_type": "execute_result"
    }
   ],
   "source": [
    "#*args example\n",
    "def args_fun(*args):\n",
    "    return args\n",
    "args_fun(1,2,3,4,\"abc\")"
   ]
  },
  {
   "cell_type": "code",
   "execution_count": 8,
   "id": "572aee8a",
   "metadata": {},
   "outputs": [
    {
     "data": {
      "text/plain": [
       "{'a': 1, 'b': 2, 'c': ['a', 'b', 'c'], 'd': {1: 'a', 2: 'b'}}"
      ]
     },
     "execution_count": 8,
     "metadata": {},
     "output_type": "execute_result"
    }
   ],
   "source": [
    "#**kwargs example\n",
    "def kwargs_fun(**kwargs):\n",
    "    return kwargs\n",
    "kwargs_fun(a = 1, b = 2, c =  ['a','b','c'],d = {1:'a',2:'b'})"
   ]
  },
  {
   "cell_type": "markdown",
   "id": "1f8c653c",
   "metadata": {},
   "source": [
    "### Q3. What is an iterator in python? Name the method used to initialise the iterator object and the method used for iteration. Use these methods to print the first five elements of the given list [2, 4, 6, 8, 10, 12, 14, 16,18, 20].\n",
    "\n",
    "\n",
    "Ans: Iterator is an object is used to iterate over iterable objects like list, tuple, set and dict. The Python iterators object is initialized using the iter() method. The next method returns the next value for the iterable."
   ]
  },
  {
   "cell_type": "code",
   "execution_count": 25,
   "id": "8173d3b7",
   "metadata": {},
   "outputs": [
    {
     "name": "stdout",
     "output_type": "stream",
     "text": [
      "2\n",
      "4\n",
      "6\n",
      "8\n",
      "10\n"
     ]
    }
   ],
   "source": [
    "list_1 = [2, 4, 6, 8, 10, 12, 14, 16, 18, 20]\n",
    "iterator = iter(list_1)\n",
    "\n",
    "for i in range(5):\n",
    "    element = next(iterator)\n",
    "    print(element)\n"
   ]
  },
  {
   "cell_type": "markdown",
   "id": "ad393805",
   "metadata": {},
   "source": [
    "### Q4. What is a generator function in python? Why yield keyword is used? Give an example of a generator function.\n",
    "\n",
    "\n",
    "Ans: Generator function allows to iterate over large sequence of element without storing them all in memory. Yield keyword is used instead of return keyword to generate one value at a time."
   ]
  },
  {
   "cell_type": "code",
   "execution_count": 29,
   "id": "0631815d",
   "metadata": {},
   "outputs": [
    {
     "name": "stdout",
     "output_type": "stream",
     "text": [
      "1\n",
      "3\n",
      "5\n"
     ]
    }
   ],
   "source": [
    "#example of generator function\n",
    "def gen_fun(l):\n",
    "    n = 1\n",
    "    while n <= l:\n",
    "        yield n\n",
    "        n += 2\n",
    "        \n",
    "for i in gen_fun(5):\n",
    "    print(i)"
   ]
  },
  {
   "cell_type": "markdown",
   "id": "47731439",
   "metadata": {},
   "source": [
    "### Q5. Create a generator function for prime numbers less than 1000. Use the next() method to print the first 20 prime numbers.\n",
    "\n",
    "Ans: "
   ]
  },
  {
   "cell_type": "code",
   "execution_count": 14,
   "id": "e67932c0",
   "metadata": {},
   "outputs": [
    {
     "name": "stdout",
     "output_type": "stream",
     "text": [
      "2\n",
      "3\n",
      "5\n",
      "7\n",
      "11\n",
      "13\n",
      "17\n",
      "19\n",
      "23\n",
      "29\n",
      "31\n",
      "37\n",
      "41\n",
      "43\n",
      "47\n",
      "53\n",
      "59\n",
      "61\n",
      "67\n",
      "71\n"
     ]
    }
   ],
   "source": [
    "def prime_num(n):\n",
    "    for i in range(n):\n",
    "        count = 0\n",
    "        if i >= 2:\n",
    "            for j in range(2,i+1):\n",
    "                if i % j == 0:\n",
    "                    count += 1\n",
    "            if count == 1:\n",
    "                yield i\n",
    "top_20 = prime_num(1000)\n",
    "\n",
    "for i in range(20):\n",
    "    print(next(top_20))"
   ]
  }
 ],
 "metadata": {
  "kernelspec": {
   "display_name": "Python 3 (ipykernel)",
   "language": "python",
   "name": "python3"
  },
  "language_info": {
   "codemirror_mode": {
    "name": "ipython",
    "version": 3
   },
   "file_extension": ".py",
   "mimetype": "text/x-python",
   "name": "python",
   "nbconvert_exporter": "python",
   "pygments_lexer": "ipython3",
   "version": "3.10.8"
  }
 },
 "nbformat": 4,
 "nbformat_minor": 5
}
