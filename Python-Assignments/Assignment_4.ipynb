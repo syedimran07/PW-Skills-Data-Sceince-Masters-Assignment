{
 "cells": [
  {
   "cell_type": "markdown",
   "id": "e49254c8",
   "metadata": {},
   "source": [
    "### Q1. Explain Class and Object with respect to Object-Oriented Programming. Give a suitable example.\n",
    "\n",
    "Ans: 'Class' is blueprint of object and realworld entity like human, car, laptop etc,. It defines the structure, behavior, and attributes that its objects will have. 'Object' is instance of class. It have states and behaviour like dog has name, breed, eating , barking."
   ]
  },
  {
   "cell_type": "code",
   "execution_count": 56,
   "id": "06d25a1f",
   "metadata": {},
   "outputs": [
    {
     "name": "stdout",
     "output_type": "stream",
     "text": [
      "Dog name is Puppy\n",
      "Dog is eating Biscuit\n",
      "Dog breed is German shepyard\n",
      "('Puppy', 'Biscuit', 'German shepyard')\n"
     ]
    }
   ],
   "source": [
    "class Dog:\n",
    "    def __init__(self,name,food,breed):\n",
    "        self.name = name\n",
    "        self.food = food\n",
    "        self.breed = breed\n",
    "        \n",
    "    def get_name(self):\n",
    "        return f\"Dog name is {self.name}\"\n",
    "    def food_detail(self):\n",
    "        return f\"Dog is eating {self.food}\"\n",
    "    def get_breed(self):\n",
    "        return f\"Dog breed is {self.breed}\"\n",
    "    def dog_details(self):\n",
    "        return self.name, self.food, self.breed\n",
    "\n",
    "# Creating objects (instances) of the Dog class\n",
    "doggy = Dog(\"Puppy\", \"Biscuit\", \"German shepyard\")\n",
    "\n",
    "# Using object methods\n",
    "print(doggy.get_name())        \n",
    "print(doggy.food_detail())  \n",
    "print(doggy.get_breed())       \n",
    "print(doggy.dog_details())"
   ]
  },
  {
   "cell_type": "markdown",
   "id": "2f03e5b7",
   "metadata": {},
   "source": [
    "### Q2. Name the four pillars of OOPs.\n",
    "\n",
    "Ans: Four pillars of OOPs are polymorphism, inheritances, encapsulation and absarction."
   ]
  },
  {
   "cell_type": "markdown",
   "id": "9e042c19",
   "metadata": {},
   "source": [
    "### Q3. Explain why the __init__() function is used. Give a suitable example.\n",
    "\n",
    "Ans: This '__init__' function acts as a constructor and allows us to pass data to the class when creating an object, ensuring that the object starts with specific attribute values."
   ]
  },
  {
   "cell_type": "code",
   "execution_count": 57,
   "id": "fe063bfc",
   "metadata": {},
   "outputs": [
    {
     "name": "stdout",
     "output_type": "stream",
     "text": [
      "Car name is Taigo and company is TATA. It is 2023 model\n",
      "Taigo\n"
     ]
    }
   ],
   "source": [
    "class Car:\n",
    "    def __init__(self,name,company,model):\n",
    "        self.name = name\n",
    "        self.company = company\n",
    "        self.model = model\n",
    "        \n",
    "    def car_deatils(self):\n",
    "        return f\"Car name is {self.name} and company is {self.company}. It is {self.model} model\"\n",
    "\n",
    "    \n",
    "car_det = Car(\"Taigo\", \"TATA\",2023)\n",
    "print(car_det.car_deatils())\n",
    "print(car_det.name)"
   ]
  },
  {
   "cell_type": "markdown",
   "id": "682a30c6",
   "metadata": {},
   "source": [
    "### Q4. Why self is used in OOPs?\n",
    "\n",
    "Ans: The 'self' keyword represents the instance of the class. By using the “self” keyword, we can access the attributes and methods of the class. It is used every time we define a method."
   ]
  },
  {
   "cell_type": "markdown",
   "id": "9d4e800e",
   "metadata": {},
   "source": [
    "### Q5. What is inheritance? Give an example for each type of inheritance.\n",
    "\n",
    "\n",
    "Ans: Inheritance allows one class to inherit properties and behaviors from another class. It enables code reusability and the creation of a hierarchy of classes. Parent class is the class being inherited from, also called base class. Child class is the class that inherits from another class, also called derived class."
   ]
  },
  {
   "cell_type": "code",
   "execution_count": 59,
   "id": "6035cccb",
   "metadata": {},
   "outputs": [
    {
     "name": "stdout",
     "output_type": "stream",
     "text": [
      "This function is in parent class.\n",
      "This function is in child class.\n"
     ]
    }
   ],
   "source": [
    "# single inheritance\n",
    "\n",
    "# Base class\n",
    "class Parent:\n",
    "    def func1(self):\n",
    "        print(\"This function is in parent class.\")\n",
    "\n",
    "# Derived class\n",
    "class Child(Parent):\n",
    "    def func2(self):\n",
    "        print(\"This function is in child class.\")\n",
    "\n",
    "# Driver's code\n",
    "object = Child()\n",
    "object.func1()\n",
    "object.func2()"
   ]
  },
  {
   "cell_type": "code",
   "execution_count": 60,
   "id": "6d74601e",
   "metadata": {},
   "outputs": [
    {
     "name": "stdout",
     "output_type": "stream",
     "text": [
      "Father : Hari\n",
      "Mother : Sirisha\n"
     ]
    }
   ],
   "source": [
    "# multiple inheritance\n",
    "\n",
    "# Base class1\n",
    "class Mother:\n",
    "    mothername = \"\"\n",
    "\n",
    "    def mother(self):\n",
    "        print(self.mothername)\n",
    "\n",
    "# Base class2\n",
    "class Father:\n",
    "    fathername = \"\"\n",
    "\n",
    "    def father(self):\n",
    "        print(self.fathername)\n",
    "\n",
    "# Derived class\n",
    "class Son(Mother, Father):\n",
    "    def parents(self):\n",
    "        print(\"Father :\", self.fathername)\n",
    "        print(\"Mother :\", self.mothername)\n",
    "\n",
    "\n",
    "# Driver's code\n",
    "s1 = Son()\n",
    "s1.fathername = \"Hari\"\n",
    "s1.mothername = \"Sirisha\"\n",
    "s1.parents()"
   ]
  },
  {
   "cell_type": "code",
   "execution_count": 61,
   "id": "a024d0b1",
   "metadata": {},
   "outputs": [
    {
     "name": "stdout",
     "output_type": "stream",
     "text": [
      "Queen\n",
      "Grandfather name : Queen\n",
      "Father name : Raja\n",
      "Son name : Prince\n"
     ]
    }
   ],
   "source": [
    "# multilevel inheritance\n",
    "\n",
    "# Base class\n",
    "class Grandfather:\n",
    "\n",
    "    def __init__(self, grandfathername):\n",
    "        self.grandfathername = grandfathername\n",
    "\n",
    "# Intermediate class\n",
    "class Father(Grandfather):\n",
    "    def __init__(self, fathername, grandfathername):\n",
    "        self.fathername = fathername\n",
    "        # invoking constructor of Grandfather class\n",
    "        Grandfather.__init__(self, grandfathername)\n",
    "\n",
    "# Derived class\n",
    "class Son(Father):\n",
    "    def __init__(self, sonname, fathername, grandfathername):\n",
    "        self.sonname = sonname\n",
    "        Father.__init__(self, fathername, grandfathername)\n",
    "\n",
    "    def print_name(self):\n",
    "        print('Grandfather name :', self.grandfathername)\n",
    "        print(\"Father name :\", self.fathername)\n",
    "        print(\"Son name :\", self.sonname)\n",
    "\n",
    "\n",
    "# Driver code\n",
    "s1 = Son('Prince', 'Raja', 'Queen')\n",
    "print(s1.grandfathername)\n",
    "s1.print_name()\n"
   ]
  },
  {
   "cell_type": "code",
   "execution_count": 64,
   "id": "4a1bdd87",
   "metadata": {},
   "outputs": [
    {
     "name": "stdout",
     "output_type": "stream",
     "text": [
      "This function is in parent class.\n",
      "This function is in child 1.\n",
      "This function is in parent class.\n",
      "This function is in child 2.\n"
     ]
    }
   ],
   "source": [
    "# Hierarchical inheritance\n",
    "\n",
    "# Base class\n",
    "class Parent:\n",
    "    def func1(self):\n",
    "        print(\"This function is in parent class.\")\n",
    "\n",
    "# Derived class1\n",
    "class Child1(Parent):\n",
    "    def func2(self):\n",
    "        print(\"This function is in child 1.\")\n",
    "\n",
    "# Derivied class2\n",
    "    def func3(self):\n",
    "        print(\"This function is in child 2.\")\n",
    "\n",
    "\n",
    "# Driver's code\n",
    "object1 = Child1()\n",
    "object2 = Child2()\n",
    "object1.func1()\n",
    "object1.func2()\n",
    "object2.func1()\n",
    "object2.func3()"
   ]
  },
  {
   "cell_type": "code",
   "execution_count": 66,
   "id": "bef1c62f",
   "metadata": {},
   "outputs": [
    {
     "name": "stdout",
     "output_type": "stream",
     "text": [
      "This function is in school.\n",
      "This function is in student 1. \n"
     ]
    }
   ],
   "source": [
    "# hybrid inheritance\n",
    "\n",
    "class School:\n",
    "    def func1(self):\n",
    "        print(\"This function is in school.\")\n",
    "\n",
    "\n",
    "class Student1(School):\n",
    "    def func2(self):\n",
    "        print(\"This function is in student 1. \")\n",
    "\n",
    "\n",
    "class Student2(School):\n",
    "    def func3(self):\n",
    "        print(\"This function is in student 2.\")\n",
    "\n",
    "\n",
    "class Student3(Student1, School):\n",
    "    def func4(self):\n",
    "        print(\"This function is in student 3.\")\n",
    "\n",
    "\n",
    "# Driver's code\n",
    "object = Student3()\n",
    "object.func1()\n",
    "object.func2()"
   ]
  },
  {
   "cell_type": "code",
   "execution_count": null,
   "id": "57c4cf83",
   "metadata": {},
   "outputs": [],
   "source": []
  }
 ],
 "metadata": {
  "kernelspec": {
   "display_name": "Python 3 (ipykernel)",
   "language": "python",
   "name": "python3"
  },
  "language_info": {
   "codemirror_mode": {
    "name": "ipython",
    "version": 3
   },
   "file_extension": ".py",
   "mimetype": "text/x-python",
   "name": "python",
   "nbconvert_exporter": "python",
   "pygments_lexer": "ipython3",
   "version": "3.10.8"
  }
 },
 "nbformat": 4,
 "nbformat_minor": 5
}
