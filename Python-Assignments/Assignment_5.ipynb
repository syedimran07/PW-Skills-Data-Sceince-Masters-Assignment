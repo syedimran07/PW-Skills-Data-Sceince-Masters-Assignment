{
 "cells": [
  {
   "cell_type": "markdown",
   "id": "43e06a37",
   "metadata": {},
   "source": [
    "### 1. Who developed Python Programming Language? \n",
    "\n",
    "Ans: Python is created by Guido Van Rossum."
   ]
  },
  {
   "cell_type": "markdown",
   "id": "40da06a5",
   "metadata": {},
   "source": [
    "### 2. Which type of Programming does Python support?\n",
    "\n",
    "Ans: Python is an interpreted programming language, supporting object-oriented, structured, and functional programming."
   ]
  },
  {
   "cell_type": "markdown",
   "id": "5226acc2",
   "metadata": {},
   "source": [
    "### 3. Is Python case sensitive when dealing with identifiers? \n",
    "\n",
    "Ans: Yes, Python is case-sensitive when it comes to identifiers. It treats uppercase and lowercase letters as distinct characters in variable names, function names, class names, and other identifiers."
   ]
  },
  {
   "cell_type": "markdown",
   "id": "864ce968",
   "metadata": {},
   "source": [
    "### 4. What is the correct extension of the Python file? \n",
    "\n",
    "Ans: \".py\" is the correct extension of the Python file?."
   ]
  },
  {
   "cell_type": "markdown",
   "id": "0abbd09c",
   "metadata": {},
   "source": [
    "### 5. Is Python code compiled or interpreted?\n",
    "\n",
    "Ans: Yes, Python is an interpreted language, which means the source code of a Python program is converted into bytecode that is then executed by the Python virtual machine."
   ]
  },
  {
   "cell_type": "markdown",
   "id": "39c239d2",
   "metadata": {},
   "source": [
    "### 6. Name a few blocks of code used to define in Python language?\n",
    "\n",
    "Ans: Function block, Conditional block, Class block etc,."
   ]
  },
  {
   "cell_type": "code",
   "execution_count": 5,
   "id": "f6b47e16",
   "metadata": {},
   "outputs": [
    {
     "data": {
      "text/plain": [
       "10"
      ]
     },
     "execution_count": 5,
     "metadata": {},
     "output_type": "execute_result"
    }
   ],
   "source": [
    "#Function block\n",
    "def sum_num(a,b):\n",
    "    return a + b\n",
    "sum_num(5,5)"
   ]
  },
  {
   "cell_type": "code",
   "execution_count": 6,
   "id": "1ec7dfd8",
   "metadata": {},
   "outputs": [
    {
     "name": "stdout",
     "output_type": "stream",
     "text": [
      "Odd Number\n"
     ]
    }
   ],
   "source": [
    "#Conditional block\n",
    "num = 7\n",
    "if num % 2 == 0:\n",
    "    print(\"Even Number\")\n",
    "else:\n",
    "    print(\"Odd Number\")"
   ]
  },
  {
   "cell_type": "code",
   "execution_count": 17,
   "id": "edb964c2",
   "metadata": {},
   "outputs": [
    {
     "data": {
      "text/plain": [
       "('Honda', 2023)"
      ]
     },
     "execution_count": 17,
     "metadata": {},
     "output_type": "execute_result"
    }
   ],
   "source": [
    "#Class block\n",
    "class Car:\n",
    "    def __init__(self, name, model):\n",
    "        self.car_name = name\n",
    "        self.car_model = model\n",
    "        \n",
    "    def get_details(self):\n",
    "        return self.car_name, self.car_model\n",
    "car_details = Car(\"Honda\", 2023)\n",
    "car_details.get_details()\n"
   ]
  },
  {
   "cell_type": "markdown",
   "id": "22b57f47",
   "metadata": {},
   "source": [
    "### 7. State a character used to give single-line comments in Python?\n",
    "\n",
    "Ans: \"#\" is used to give single-line comments in Python."
   ]
  },
  {
   "cell_type": "markdown",
   "id": "e51ebc1f",
   "metadata": {},
   "source": [
    "### 8. Mention functions which can help us to find the version of python that we are currently working on?\n",
    "\n",
    "Ans: "
   ]
  },
  {
   "cell_type": "code",
   "execution_count": 18,
   "id": "35742d7d",
   "metadata": {},
   "outputs": [
    {
     "name": "stdout",
     "output_type": "stream",
     "text": [
      "Python version\n",
      "3.10.8 | packaged by conda-forge | (main, Nov 24 2022, 14:07:00) [MSC v.1916 64 bit (AMD64)]\n"
     ]
    }
   ],
   "source": [
    "import sys\n",
    "\n",
    "print(\"Python version\")\n",
    "print(sys.version)\n"
   ]
  },
  {
   "cell_type": "code",
   "execution_count": 19,
   "id": "dec2a9cd",
   "metadata": {},
   "outputs": [
    {
     "name": "stdout",
     "output_type": "stream",
     "text": [
      "Python version\n",
      "3.10.8\n"
     ]
    }
   ],
   "source": [
    "import platform\n",
    "\n",
    "print(\"Python version\")\n",
    "print(platform.python_version())\n"
   ]
  },
  {
   "cell_type": "markdown",
   "id": "150c7f20",
   "metadata": {},
   "source": [
    "### 9. Python supports the creation of anonymous functions at runtime, using a construct called?\n",
    "\n",
    "Ans: Python supports the creation of anonymous functions (i.e. functions that are not bound to a name) at runtime, using a construct called lambda."
   ]
  },
  {
   "cell_type": "code",
   "execution_count": 20,
   "id": "cc1ce512",
   "metadata": {},
   "outputs": [
    {
     "name": "stdout",
     "output_type": "stream",
     "text": [
      "3\n"
     ]
    }
   ],
   "source": [
    "add = lambda x, y: x + y\n",
    "result = add(1, 2)\n",
    "print(result)"
   ]
  },
  {
   "cell_type": "markdown",
   "id": "5dac4a5f",
   "metadata": {},
   "source": [
    "### 10. What does pip stand for python?\n",
    "\n",
    "Ans: PIP stands for \"Preferred Installer Program\" or PIP Installs Packages."
   ]
  },
  {
   "cell_type": "markdown",
   "id": "aace4198",
   "metadata": {},
   "source": [
    "### 11. Mention a few built-in functions in python?\n",
    "\n",
    "Ans: Built-in functions in python are print(), len(), max(), type(), int(),round(),list etc,."
   ]
  },
  {
   "cell_type": "markdown",
   "id": "4c9bda6d",
   "metadata": {},
   "source": [
    "### 12. What is the maximum possible length of an identifier in Python? \n",
    "\n",
    "Ans: An identifier can have a maximum length of 79 characters in Python."
   ]
  },
  {
   "cell_type": "markdown",
   "id": "708fc7b2",
   "metadata": {},
   "source": [
    "### 13. What are the benefits of using Python?\n",
    "\n",
    "Ans: Benefits of  using python are easy to read, easy to learn, large standard library, interpreted, open source etc,."
   ]
  },
  {
   "cell_type": "markdown",
   "id": "a450e9b4",
   "metadata": {},
   "source": [
    "### 14. How is memory managed in Python? \n",
    "\n",
    "Ans:  Memory management in Python involves a private heap containing all Python objects and data structures. The management of this private heap is ensured internally by the Python memory manager."
   ]
  },
  {
   "cell_type": "markdown",
   "id": "7cc262a6",
   "metadata": {},
   "source": [
    "### 15. How to install Python on Windows and set path variables?\n",
    "\n",
    "Ans:\n",
    "\n",
    "* Go to the any official Python website by using your web browser.\n",
    "\n",
    "* On the Python downloads page, you'll see various Python versions available for Windows. Choose the version you prefer.\n",
    "\n",
    "* Select the installer that matches your system architecture (32-bit or 64-bit).\n",
    "\n",
    "* Click on the download link to save the installer to your computer.\n",
    "\n",
    "* Locate the downloaded installer (typically in your \"Downloads\" folder) and double-click it to run the installer.\n",
    "\n",
    "* You may see a checkbox that says \"Add Python X.X to PATH.\" Ensure that you check this box to add Python to your system's PATH environment variable. This step is essential for running Python from the command line.\n",
    "\n",
    "* Click \"Install Now\" to start the installation.\n",
    "\n",
    "* The Python installer will now install Python and associated components on your system. Once the installation is complete, you will see a screen indicating success."
   ]
  },
  {
   "cell_type": "markdown",
   "id": "cd78772e",
   "metadata": {},
   "source": [
    "### 16. Is indentation required in python? \n",
    "\n",
    "Ans: Yes, It is compulsory to indent the code in some programming languages like python. All statements belonging to the same block should have the same amount of indentation."
   ]
  },
  {
   "cell_type": "code",
   "execution_count": null,
   "id": "8d0620e6",
   "metadata": {},
   "outputs": [],
   "source": []
  }
 ],
 "metadata": {
  "kernelspec": {
   "display_name": "Python 3 (ipykernel)",
   "language": "python",
   "name": "python3"
  },
  "language_info": {
   "codemirror_mode": {
    "name": "ipython",
    "version": 3
   },
   "file_extension": ".py",
   "mimetype": "text/x-python",
   "name": "python",
   "nbconvert_exporter": "python",
   "pygments_lexer": "ipython3",
   "version": "3.10.8"
  }
 },
 "nbformat": 4,
 "nbformat_minor": 5
}
