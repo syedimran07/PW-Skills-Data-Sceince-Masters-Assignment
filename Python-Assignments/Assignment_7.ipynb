{
 "cells": [
  {
   "cell_type": "markdown",
   "id": "3dc18c95",
   "metadata": {},
   "source": [
    "### Q1. Create a function which will take a list as an argument and return the product of all the numbers after creating a flat list.\n",
    "Use the below-given list as an argument for your function.\n",
    "list1 = [1,2,3,4, [44,55,66, True], False, (34,56,78,89,34), {1,2,3,3,2,1}, {1:34, \"key2\": [55, 67, 78, 89], 4: (45,\n",
    "22, 61, 34)}, [56, 'data science'], 'Machine Learning']\n",
    "Note: you must extract numeric keys and values of the dictionary also."
   ]
  },
  {
   "cell_type": "code",
   "execution_count": 1,
   "id": "761ee277",
   "metadata": {},
   "outputs": [
    {
     "name": "stdout",
     "output_type": "stream",
     "text": [
      "4134711838987085478833841242112000\n"
     ]
    }
   ],
   "source": [
    "list1 = [1,2,3,4, [44,55,66, True], False, (34,56,78,89,34), {1,2,3,3,2,1}, {1:34, \"key2\": [55, 67, 78, 89], 4: (45, 22, 61, 34)}, [56, 'data science'], 'Machine Learning']\n",
    "\n",
    "def prod_num(l1):\n",
    "    \n",
    "    new_list = []\n",
    "    \n",
    "    def get_num(item):\n",
    "        if type(item) == int:\n",
    "            new_list.append(item)\n",
    "        elif type(item) in (list,tuple,set,dict): \n",
    "            if type(item) == dict:\n",
    "                items = list(item.items())\n",
    "                for i in items:\n",
    "                    get_num(i)\n",
    "            else:\n",
    "                for i in item:\n",
    "                    get_num(i)\n",
    "                    \n",
    "    for i in l1:\n",
    "        get_num(i)\n",
    "        \n",
    "    product = 1\n",
    "    for num in new_list:\n",
    "        product *= num\n",
    "        \n",
    "        \n",
    "    return product\n",
    "                  \n",
    "result = prod_num(list1)\n",
    "print(result)"
   ]
  },
  {
   "cell_type": "markdown",
   "id": "3f533e9c",
   "metadata": {},
   "source": [
    "### Q2. Write a python program for encrypting a message sent to you by your friend. The logic of encryption should be such that, for a the output should be z. For b, the output should be y. For c, the output should be x respectively. Also, the whitespace should be replaced with a dollar sign. Keep the punctuation marks unchanged.\n",
    "Input Sentence: I want to become a Data Scientist.\n",
    "Encrypt the above input sentence using the program you just created.\n",
    "Note: Convert the given input sentence into lowercase before encrypting. The final output should be\n",
    "lowercase."
   ]
  },
  {
   "cell_type": "code",
   "execution_count": 14,
   "id": "498ab576",
   "metadata": {},
   "outputs": [
    {
     "name": "stdout",
     "output_type": "stream",
     "text": [
      "r$dzmg$gl$yvxlnv$z$wzgz$hxrvmgrhg\n"
     ]
    }
   ],
   "source": [
    "password = \"I want to become a Data Scientist\".lower()\n",
    "encryp_msg = \"\"\n",
    "alphabets = [chr(i) for i in range(97,123)]\n",
    "for i in password:\n",
    "    if i.isspace():\n",
    "        encryp_msg += \"$\"\n",
    "    elif i.isalpha():\n",
    "        find_index = alphabets.index(i)\n",
    "        encryp_msg += alphabets[-(find_index+1)]\n",
    "    else:\n",
    "        encryp_msg += i \n",
    "print(encryp_msg)"
   ]
  },
  {
   "cell_type": "code",
   "execution_count": null,
   "id": "157bfa96",
   "metadata": {},
   "outputs": [],
   "source": []
  }
 ],
 "metadata": {
  "kernelspec": {
   "display_name": "Python 3 (ipykernel)",
   "language": "python",
   "name": "python3"
  },
  "language_info": {
   "codemirror_mode": {
    "name": "ipython",
    "version": 3
   },
   "file_extension": ".py",
   "mimetype": "text/x-python",
   "name": "python",
   "nbconvert_exporter": "python",
   "pygments_lexer": "ipython3",
   "version": "3.10.13"
  }
 },
 "nbformat": 4,
 "nbformat_minor": 5
}
