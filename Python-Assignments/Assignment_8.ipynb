{
 "cells": [
  {
   "cell_type": "markdown",
   "id": "87f360db",
   "metadata": {},
   "source": [
    "### Q1. You are writing code for a company. The requirement of the company is that you create a python function that will check whether the password entered by the user is correct or not. The function should take the password as input and return the string “Valid Password” if the entered password follows thebelow-given password guidelines else it should return “Invalid Password”.\n",
    "Note: \n",
    "1. The Password should contain at least two uppercase letters and at least two lowercase letters.\n",
    "2. The Password should contain at least a number and three special characters.\n",
    "3. The length of the password should be 10 characters long."
   ]
  },
  {
   "cell_type": "code",
   "execution_count": null,
   "id": "9b68eb59",
   "metadata": {},
   "outputs": [],
   "source": [
    "def valid_or_invalid(password):\n",
    "    \n",
    "    if len(password) <= 10 :\n",
    "        count_upper = 0\n",
    "        count_lower = 0\n",
    "        count_num = 0\n",
    "        count_spc_char = 0\n",
    "        for char in password:\n",
    "            if char.isupper():\n",
    "                count_upper += 1\n",
    "            elif char.islower():\n",
    "                count_lower += 1\n",
    "            elif char.isdigit():\n",
    "                count_num += 1\n",
    "            else:\n",
    "                count_spc_char += 1\n",
    "        if (count_upper >= 2) and (count_lower >= 2) and (count_num >= 1) and (count_spc_char >= 3):\n",
    "            return \"Valid Password\"\n",
    "        else:\n",
    "            return \"Invalid Password\"\n",
    "            \n",
    "    else:\n",
    "        return \"Invalid Password\"\n",
    "    \n",
    "    \n",
    "result = valid_or_invalid(\"Ir@n76#B@\")\n",
    "print(result)"
   ]
  },
  {
   "cell_type": "markdown",
   "id": "051e21db",
   "metadata": {},
   "source": [
    "### Q2. Solve the below-given questions using at least one of the following:\n",
    "1. Lambda function\n",
    "2. Filter function\n",
    "3. Map function\n",
    "4. List Comprehension"
   ]
  },
  {
   "cell_type": "markdown",
   "id": "4d40cc91",
   "metadata": {},
   "source": [
    "### (i) Check if the string starts with a particular letter."
   ]
  },
  {
   "cell_type": "code",
   "execution_count": null,
   "id": "d13730f6",
   "metadata": {},
   "outputs": [],
   "source": [
    "list1 = [\"apple\", \"bird\",\"animal\",\"cow\"]\n",
    "start_letter = \"a\"\n",
    "find_string = list(filter(lambda x: x.startswith(start_letter),list1))\n",
    "print(find_string)"
   ]
  },
  {
   "cell_type": "markdown",
   "id": "d3379d15",
   "metadata": {},
   "source": [
    "### (ii) Check if the string is numeric."
   ]
  },
  {
   "cell_type": "code",
   "execution_count": null,
   "id": "54652a0c",
   "metadata": {},
   "outputs": [
    {
     "name": "stdout",
     "output_type": "stream",
     "text": [
      "['123', '32']\n"
     ]
    }
   ],
   "source": [
    "str1 = [\"123\", \"apple\", \"3.1\", \"32\", \"animal\"]\n",
    "check_num = list(filter(lambda x: x.isnumeric(),str1))\n",
    "print(check_num)"
   ]
  },
  {
   "cell_type": "markdown",
   "id": "c87d73ee",
   "metadata": {},
   "source": [
    "### (iii) Sort a list of tuples having fruit names and their quantity. [(\"mango\",99),(\"orange\",80), (\"grapes\", 1000)]"
   ]
  },
  {
   "cell_type": "code",
   "execution_count": 4,
   "id": "7fbefbab",
   "metadata": {},
   "outputs": [
    {
     "data": {
      "text/plain": [
       "[('orange', 80), ('mango', 99), ('grapes', 1000)]"
      ]
     },
     "execution_count": 4,
     "metadata": {},
     "output_type": "execute_result"
    }
   ],
   "source": [
    "list1 = [(\"mango\",99),(\"orange\",80), (\"grapes\", 1000)]\n",
    "output = sorted(list1, key=lambda x: x[1])\n",
    "output     "
   ]
  },
  {
   "cell_type": "markdown",
   "id": "ac79ec50",
   "metadata": {},
   "source": [
    "### (iv) Find the squares of numbers from 1 to 10."
   ]
  },
  {
   "cell_type": "code",
   "execution_count": 5,
   "id": "a1529970",
   "metadata": {},
   "outputs": [
    {
     "name": "stdout",
     "output_type": "stream",
     "text": [
      "[1, 4, 9, 16, 25, 36, 49, 64, 81, 100]\n"
     ]
    }
   ],
   "source": [
    "squares = [x**2 for x in range(1, 11)]\n",
    "print(squares)"
   ]
  },
  {
   "cell_type": "markdown",
   "id": "752146e0",
   "metadata": {},
   "source": [
    "### (v) Find the cube root of numbers from 1 to 10."
   ]
  },
  {
   "cell_type": "code",
   "execution_count": 6,
   "id": "432c76ca",
   "metadata": {},
   "outputs": [
    {
     "name": "stdout",
     "output_type": "stream",
     "text": [
      "[1.0, 1.2599210498948732, 1.4422495703074083, 1.5874010519681994, 1.7099759466766968, 1.8171205928321397, 1.912931182772389, 2.0, 2.080083823051904, 2.154434690031884]\n"
     ]
    }
   ],
   "source": [
    "cube_roots = [x**(1/3) for x in range(1, 11)]\n",
    "\n",
    "print(cube_roots)"
   ]
  },
  {
   "cell_type": "markdown",
   "id": "035e98f6",
   "metadata": {},
   "source": [
    "### (vi) Check if a given number is even."
   ]
  },
  {
   "cell_type": "code",
   "execution_count": 7,
   "id": "b5c1a23b",
   "metadata": {},
   "outputs": [
    {
     "name": "stdout",
     "output_type": "stream",
     "text": [
      "6 is even.\n"
     ]
    }
   ],
   "source": [
    "num = 6\n",
    "result = list(filter(lambda x: x % 2 == 0, [num]))\n",
    "if list(result):\n",
    "    print(f\"{num} is even.\")\n",
    "else:\n",
    "    print(f\"{num} is not even.\")"
   ]
  },
  {
   "cell_type": "markdown",
   "id": "8f23f537",
   "metadata": {},
   "source": [
    "### (vii) Filter odd numbers from the given list.\n",
    "[1,2,3,4,5,6,7,8,9,10]"
   ]
  },
  {
   "cell_type": "code",
   "execution_count": 8,
   "id": "7eda589e",
   "metadata": {},
   "outputs": [
    {
     "name": "stdout",
     "output_type": "stream",
     "text": [
      "[1, 3, 5, 7, 9]\n"
     ]
    }
   ],
   "source": [
    "list1 = [1,2,3,4,5,6,7,8,9,10]\n",
    "odd_num = list(filter(lambda x: x % 2 == 1, list1))\n",
    "print(odd_num)"
   ]
  },
  {
   "cell_type": "markdown",
   "id": "69623304",
   "metadata": {},
   "source": [
    "### (viii) Sort a list of integers into positive and negative integers lists.\n",
    "[1,2,3,4,5,6,-1,-2,-3,-4,-5,0]"
   ]
  },
  {
   "cell_type": "code",
   "execution_count": 9,
   "id": "2f83a70c",
   "metadata": {},
   "outputs": [
    {
     "name": "stdout",
     "output_type": "stream",
     "text": [
      "[1, 2, 3, 4, 5, 6]\n",
      "[-1, -2, -3, -4, -5]\n"
     ]
    }
   ],
   "source": [
    "num = [1,2,3,4,5,6,-1,-2,-3,-4,-5,0]\n",
    "\n",
    "positive_num = [i for i in num if i > 0]\n",
    "negative_num = [i for i in num if i < 0]\n",
    "print(positive_num)\n",
    "print(negative_num)"
   ]
  },
  {
   "cell_type": "code",
   "execution_count": null,
   "id": "1de24adf",
   "metadata": {},
   "outputs": [],
   "source": []
  }
 ],
 "metadata": {
  "kernelspec": {
   "display_name": "Python 3 (ipykernel)",
   "language": "python",
   "name": "python3"
  },
  "language_info": {
   "codemirror_mode": {
    "name": "ipython",
    "version": 3
   },
   "file_extension": ".py",
   "mimetype": "text/x-python",
   "name": "python",
   "nbconvert_exporter": "python",
   "pygments_lexer": "ipython3",
   "version": "3.10.13"
  }
 },
 "nbformat": 4,
 "nbformat_minor": 5
}
