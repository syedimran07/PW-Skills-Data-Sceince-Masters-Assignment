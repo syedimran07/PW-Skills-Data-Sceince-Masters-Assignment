{
 "cells": [
  {
   "cell_type": "markdown",
   "id": "c3bcb161",
   "metadata": {},
   "source": [
    "### Q1. What are the characteristics of the tuples? Is tuple immutable?\n",
    "\n",
    "Ans: Tuples are collection of items in sequence order and we can access items of tuple by using indexing. Yes, tuple is immutable because we can't change, add or remove items from it.\n",
    "\n"
   ]
  },
  {
   "cell_type": "markdown",
   "id": "cabb21c2",
   "metadata": {},
   "source": [
    "### Q2. What are the two tuple methods in python? Give an example of each method. Give a reason why tuples have only two in-built methods as compared to Lists.\n",
    "\n",
    "Ans: Two methods of tuple are count() and index(). Count() method is used to count the number of occurrence of element in tuple. Index() method is used to find the position of first occurance of specified element. Tuple are immutable because of it we have two in-built methods and we can't change, add or remove element from it."
   ]
  },
  {
   "cell_type": "code",
   "execution_count": 8,
   "id": "0ae18109",
   "metadata": {},
   "outputs": [
    {
     "name": "stdout",
     "output_type": "stream",
     "text": [
      "Count Method Of Tuple :  4\n",
      "Index Method Of Tuple :  0\n"
     ]
    }
   ],
   "source": [
    "#example of each method of tuple\n",
    "tup_1 = (1,2,3,1,6,8,1,1)\n",
    "value = tup_1.count(1)\n",
    "print(\"Count Method Of Tuple : \", value)\n",
    "index = tup_1.index(1)\n",
    "print(\"Index Method Of Tuple : \", index)"
   ]
  },
  {
   "cell_type": "markdown",
   "id": "2dc0fada",
   "metadata": {},
   "source": [
    "###  Q3. Which collection datatypes in python do not allow duplicate items? Write a code using a set to remove duplicates from the given list. List = [1, 1, 1, 2, 1, 3, 1, 4, 2, 1, 2, 2, 2, 3, 2, 4, 3, 1, 3, 2, 3, 3, 3, 4, 4, 1, 4, 2, 4, 3, 4, 4]\n",
    "\n",
    "Ans: In python sets do not allow duplicate items. We can use sets to remove duplicate from list."
   ]
  },
  {
   "cell_type": "code",
   "execution_count": 10,
   "id": "13022c10",
   "metadata": {},
   "outputs": [
    {
     "name": "stdout",
     "output_type": "stream",
     "text": [
      "[1, 2, 3, 4]\n"
     ]
    }
   ],
   "source": [
    "List = [1, 1, 1, 2, 1, 3, 1, 4, 2, 1, 2, 2, 2, 3, 2, 4, 3, 1, 3, 2, 3, 3, 3, 4, 4, 1, 4, 2, 4, 3, 4, 4]\n",
    "set_1 = set(List)\n",
    "print(list(set_1))"
   ]
  },
  {
   "cell_type": "markdown",
   "id": "9b2928c2",
   "metadata": {},
   "source": [
    "### Q4. Explain the difference between the union() and update() methods for a set. Give an example ofeach method.\n",
    "\n",
    "Ans: Union() method is used to create a new set that contain all uniques elements from two or more sets. Update() method is used to add elements from one set to another set and it does not create a new set."
   ]
  },
  {
   "cell_type": "code",
   "execution_count": 11,
   "id": "224ddc63",
   "metadata": {},
   "outputs": [
    {
     "name": "stdout",
     "output_type": "stream",
     "text": [
      "{1, 2, 3, 4, 5}\n"
     ]
    }
   ],
   "source": [
    "#union method\n",
    "set_1 = {1,2,3}\n",
    "set_2 = {4,5}\n",
    "new_set = set_1 | set_2\n",
    "print(new_set)"
   ]
  },
  {
   "cell_type": "code",
   "execution_count": 13,
   "id": "d3017a62",
   "metadata": {},
   "outputs": [
    {
     "name": "stdout",
     "output_type": "stream",
     "text": [
      "{1, 2, 3, 4, 5}\n",
      "{1, 4, 5}\n"
     ]
    }
   ],
   "source": [
    "#update method\n",
    "set_1 = {1,2,3}\n",
    "set_2 = {4,5,1}\n",
    "set_1.update(set_2)\n",
    "print(set_1)\n",
    "print(set_2)"
   ]
  },
  {
   "cell_type": "markdown",
   "id": "0c3179e2",
   "metadata": {},
   "source": [
    "### Q5. What is a dictionary? Give an example. Also, state whether a dictionary is ordered or unordered.\n",
    "\n",
    "Ans: In Dictionary elements stored in key-value paired. Key must be unique and Value should be any datatype. Dictionary is unordered collection of elements."
   ]
  },
  {
   "cell_type": "code",
   "execution_count": 14,
   "id": "3668939d",
   "metadata": {},
   "outputs": [
    {
     "name": "stdout",
     "output_type": "stream",
     "text": [
      "Imran\n",
      "26\n"
     ]
    }
   ],
   "source": [
    "dict_1 = {\"name\": \"Imran\", \"age\":26}\n",
    "print(dict_1['name'])\n",
    "print(dict_1['age'])"
   ]
  },
  {
   "cell_type": "markdown",
   "id": "eb6ef81b",
   "metadata": {},
   "source": [
    "###  Q6. Can we create a nested dictionary? If so, please give an example by creating a simple one-level nested dictionary.\n",
    "\n",
    "Ans: Yes, we can create a nested dictionary."
   ]
  },
  {
   "cell_type": "code",
   "execution_count": 17,
   "id": "dd6c5ef5",
   "metadata": {},
   "outputs": [
    {
     "name": "stdout",
     "output_type": "stream",
     "text": [
      "{'Imran', 'Abhi', 'Kumar'}\n",
      "{24, 26}\n"
     ]
    }
   ],
   "source": [
    "#nested dictionary\n",
    "dict_1 = {\"name\": {'Imran', 'Abhi', 'Kumar'}, \"age\":{26,24,26}}\n",
    "print(dict_1['name'])\n",
    "print(dict_1['age'])"
   ]
  },
  {
   "cell_type": "markdown",
   "id": "549861c9",
   "metadata": {},
   "source": [
    "### Q7. Using setdefault() method, create key named topics in the given dictionary and also add the value of the key as this list ['Python', 'Machine Learning’, 'Deep Learning'] dict1 = {'language' : 'Python', 'course': 'Data Science Masters'}"
   ]
  },
  {
   "cell_type": "code",
   "execution_count": 18,
   "id": "27ea1dca",
   "metadata": {},
   "outputs": [
    {
     "name": "stdout",
     "output_type": "stream",
     "text": [
      "{'language': 'Python', 'course': 'Data Science Masters', 'topics': ['Python', 'Machine Learning', 'Deep Learning']}\n"
     ]
    }
   ],
   "source": [
    "dict1 = {'language' : 'Python', 'course': 'Data Science Masters'}\n",
    "dict1.setdefault('topics', ['Python', 'Machine Learning', 'Deep Learning'])\n",
    "print(dict1)"
   ]
  },
  {
   "cell_type": "markdown",
   "id": "624fb70e",
   "metadata": {},
   "source": [
    "### Q8. What are the three view objects in dictionaries? Use the three in-built methods in python to display these three view objects for the given dictionary. dict1 = {'Sport': 'Cricket' , 'Teams': ['India', 'Australia', 'England', 'South Africa', 'Sri Lanka', 'New Zealand']}\n",
    "\n",
    "\n",
    "Ans: Three view object in dictionary are dict1.keys(), dict1.values() and dict1.items()"
   ]
  },
  {
   "cell_type": "code",
   "execution_count": 20,
   "id": "610dc032",
   "metadata": {},
   "outputs": [
    {
     "name": "stdout",
     "output_type": "stream",
     "text": [
      "dict_keys(['Sport', 'Teams'])\n",
      "dict_values(['Cricket', ['India', 'Australia', 'England', 'South Africa', 'Sri Lanka', 'New Zealand']])\n",
      "dict_items([('Sport', 'Cricket'), ('Teams', ['India', 'Australia', 'England', 'South Africa', 'Sri Lanka', 'New Zealand'])])\n"
     ]
    }
   ],
   "source": [
    " #three view objects in dict\n",
    "dict1 = {'Sport': 'Cricket' , 'Teams': ['India', 'Australia', 'England', 'South Africa', 'Sri Lanka', 'New Zealand']}\n",
    "print(dict1.keys())\n",
    "print(dict1.values())\n",
    "print(dict1.items())"
   ]
  },
  {
   "cell_type": "code",
   "execution_count": null,
   "id": "3c52deba",
   "metadata": {},
   "outputs": [],
   "source": []
  }
 ],
 "metadata": {
  "kernelspec": {
   "display_name": "Python 3 (ipykernel)",
   "language": "python",
   "name": "python3"
  },
  "language_info": {
   "codemirror_mode": {
    "name": "ipython",
    "version": 3
   },
   "file_extension": ".py",
   "mimetype": "text/x-python",
   "name": "python",
   "nbconvert_exporter": "python",
   "pygments_lexer": "ipython3",
   "version": "3.10.8"
  }
 },
 "nbformat": 4,
 "nbformat_minor": 5
}
