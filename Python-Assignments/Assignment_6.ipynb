{
 "cells": [
  {
   "cell_type": "markdown",
   "id": "73e519dc",
   "metadata": {},
   "source": [
    "### 1. Write a program to accept percentage from the user and display the grade according to the following  criteria: \n",
    "Marks             Grade \n",
    ">90                 A \n",
    ">80 and <=90        B \n",
    ">=60 and <=80       C \n",
    "below 60            D "
   ]
  },
  {
   "cell_type": "code",
   "execution_count": 1,
   "id": "9dc1c16d",
   "metadata": {},
   "outputs": [
    {
     "name": "stdout",
     "output_type": "stream",
     "text": [
      "Enter the percentage: 85\n",
      "Grade : B\n"
     ]
    }
   ],
   "source": [
    "user_data = int(input(\"Enter the percentage: \"))\n",
    "if user_data > 90:\n",
    "    grade = \"A\"\n",
    "elif 80 < user_data <= 90:\n",
    "    grade = \"B\"\n",
    "elif 60 <= user_data <= 80:\n",
    "    grade = \"C\"\n",
    "else:\n",
    "    grade = \"D\"\n",
    "\n",
    "print(\"Grade : {}\".format(grade))"
   ]
  },
  {
   "cell_type": "markdown",
   "id": "8a94287a",
   "metadata": {},
   "source": [
    "### 2. Write a program to accept the cost price of a bike and display the road tax to be paid according to the following criteria: \n",
    "Tax \n",
    "15% \n",
    "10% \n",
    "5% \n",
    "Cost Price(in Rs) \n",
    ">100000 \n",
    "50000 and <= 100000 \n",
    "<= 50000 "
   ]
  },
  {
   "cell_type": "code",
   "execution_count": 2,
   "id": "3f961f60",
   "metadata": {},
   "outputs": [
    {
     "name": "stdout",
     "output_type": "stream",
     "text": [
      "Enter cost price of bike: 100000\n",
      "Road tax to paid: 10000.0\n"
     ]
    }
   ],
   "source": [
    "price = int(input(\"Enter cost price of bike: \"))\n",
    "if price > 100000:\n",
    "    tax = 15\n",
    "elif price > 50000 :\n",
    "    tax = 10\n",
    "else:\n",
    "    tax = 5\n",
    "    \n",
    "tax = (tax / 100) * price\n",
    "print(\"Road tax to paid: {}\".format(tax))"
   ]
  },
  {
   "cell_type": "markdown",
   "id": "deac928a",
   "metadata": {},
   "source": [
    "### 3. Accept any city from the user and display monuments of that city. \n",
    "City \n",
    "Delhi \n",
    "Monument \n",
    "Red Fort \n",
    "Taj Mahal \n",
    "Agra \n",
    "Jaipur \n",
    "Jal Mahal \n"
   ]
  },
  {
   "cell_type": "code",
   "execution_count": 3,
   "id": "ee010a4e",
   "metadata": {},
   "outputs": [
    {
     "name": "stdout",
     "output_type": "stream",
     "text": [
      "Enter city name: agra\n",
      "Monument : Taj Mahal\n"
     ]
    }
   ],
   "source": [
    "User_city = (input(\"Enter city name: \"))\n",
    "if User_city.lower() == \"delhi\":\n",
    "    monument = \"Red Fort\"\n",
    "elif User_city.lower() == \"agra\":\n",
    "    monument = \"Taj Mahal\"\n",
    "elif User_city.lower() == \"jaipur\":\n",
    "    monument = \"Jal Mahal\"\n",
    "else:\n",
    "    monument = \"not found for this city\"\n",
    "    \n",
    "print(\"Monument : {}\".format(monument))"
   ]
  },
  {
   "cell_type": "markdown",
   "id": "e9ee7ad8",
   "metadata": {},
   "source": [
    "### 4. Check how many times a given number can be divided by 3 before it is less than or equal to 10. "
   ]
  },
  {
   "cell_type": "code",
   "execution_count": 4,
   "id": "764d10d4",
   "metadata": {},
   "outputs": [
    {
     "name": "stdout",
     "output_type": "stream",
     "text": [
      "Enter a number: 27\n",
      "The number can be divided by 3 1 times before it's less than or equal to 10.\n"
     ]
    }
   ],
   "source": [
    "num = int(input(\"Enter a number: \"))\n",
    "\n",
    "count = 0\n",
    "\n",
    "while num > 10:\n",
    "    num /= 3\n",
    "    count += 1\n",
    "\n",
    "print(\"The number can be divided by 3\", count, \"times before it's less than or equal to 10.\")"
   ]
  },
  {
   "cell_type": "markdown",
   "id": "df4ce4da",
   "metadata": {},
   "source": [
    "### 5. Why and When to Use while Loop in Python give a detailed description with example.\n",
    "\n",
    "Ans: Python While Loop is used to execute a block of code repeatedly until a given condition is satisfied. And when the condition becomes false, the line immediately after the loop in the program is executed. \"Why to use\" when you don't know beforehand how many times the loop should run. You can keep running the loop until a certain condition is met, making them suitable for dynamic or open-ended situations. \"When to use\" when you want to execute a block of code repeatedly until a certain condition becomes false."
   ]
  },
  {
   "cell_type": "code",
   "execution_count": 5,
   "id": "6377af82",
   "metadata": {},
   "outputs": [
    {
     "name": "stdout",
     "output_type": "stream",
     "text": [
      "10\n"
     ]
    }
   ],
   "source": [
    "#Generate odd number from 1 to 20\n",
    "num = 1\n",
    "count_odd_num = 0\n",
    "\n",
    "while num <= 20:\n",
    "    num += 1\n",
    "    if num % 2 == 1:\n",
    "        count_odd_num += 1\n",
    "        \n",
    "print(count_odd_num)"
   ]
  },
  {
   "cell_type": "markdown",
   "id": "abbd46c3",
   "metadata": {},
   "source": [
    "### 6. Use nested while loop to print 3 different pattern. "
   ]
  },
  {
   "cell_type": "code",
   "execution_count": 6,
   "id": "9930c468",
   "metadata": {},
   "outputs": [
    {
     "name": "stdout",
     "output_type": "stream",
     "text": [
      "* * * * * \n",
      "* * * * * \n",
      "* * * * * \n",
      "* * * * * \n",
      "* * * * * \n"
     ]
    }
   ],
   "source": [
    "#square pattern\n",
    "row = 1\n",
    "while row <= 5:\n",
    "    col = 1\n",
    "    while col <= 5:\n",
    "        print(\"*\", end=\" \")\n",
    "        col += 1\n",
    "    print()\n",
    "    row += 1"
   ]
  },
  {
   "cell_type": "code",
   "execution_count": 7,
   "id": "62e7ee69",
   "metadata": {},
   "outputs": [
    {
     "name": "stdout",
     "output_type": "stream",
     "text": [
      "* \n",
      "* * \n",
      "* * * \n",
      "* * * * \n",
      "* * * * * \n"
     ]
    }
   ],
   "source": [
    "#triangle pattern\n",
    "row = 1\n",
    "while row <= 5:\n",
    "    col = 1\n",
    "    while col <= row:\n",
    "        print(\"*\", end=\" \")\n",
    "        col += 1\n",
    "    print()\n",
    "    row += 1"
   ]
  },
  {
   "cell_type": "code",
   "execution_count": 8,
   "id": "2f65d8d1",
   "metadata": {},
   "outputs": [
    {
     "name": "stdout",
     "output_type": "stream",
     "text": [
      "* * * * * \n",
      "* * * * \n",
      "* * * \n",
      "* * \n",
      "* \n"
     ]
    }
   ],
   "source": [
    "#reverse triangle\n",
    "row = 5\n",
    "while row >= 1:\n",
    "    col = 1\n",
    "    while col <= row:\n",
    "        print(\"*\", end=\" \")\n",
    "        col += 1\n",
    "    print()\n",
    "    row -= 1"
   ]
  },
  {
   "cell_type": "markdown",
   "id": "cef705af",
   "metadata": {},
   "source": [
    "### 7. Reverse a while loop to display numbers from 10 to 1."
   ]
  },
  {
   "cell_type": "code",
   "execution_count": 9,
   "id": "3f4cb966",
   "metadata": {},
   "outputs": [
    {
     "name": "stdout",
     "output_type": "stream",
     "text": [
      "10\n",
      "9\n",
      "8\n",
      "7\n",
      "6\n",
      "5\n",
      "4\n",
      "3\n",
      "2\n",
      "1\n"
     ]
    }
   ],
   "source": [
    "num = 10\n",
    "while num >=1 :\n",
    "    print(num)\n",
    "    num -= 1"
   ]
  },
  {
   "cell_type": "markdown",
   "id": "54f0ef59",
   "metadata": {},
   "source": [
    "### 8. Reverse a while loop to display numbers from 10 to 1"
   ]
  },
  {
   "cell_type": "code",
   "execution_count": 10,
   "id": "c40163da",
   "metadata": {},
   "outputs": [
    {
     "name": "stdout",
     "output_type": "stream",
     "text": [
      "10\n",
      "9\n",
      "8\n",
      "7\n",
      "6\n",
      "5\n",
      "4\n",
      "3\n",
      "2\n",
      "1\n"
     ]
    }
   ],
   "source": [
    "num = 1\n",
    "while num <= 10:\n",
    "    print(11 - num)\n",
    "    num += 1"
   ]
  },
  {
   "cell_type": "code",
   "execution_count": null,
   "id": "44757c3b",
   "metadata": {},
   "outputs": [],
   "source": []
  }
 ],
 "metadata": {
  "kernelspec": {
   "display_name": "Python 3 (ipykernel)",
   "language": "python",
   "name": "python3"
  },
  "language_info": {
   "codemirror_mode": {
    "name": "ipython",
    "version": 3
   },
   "file_extension": ".py",
   "mimetype": "text/x-python",
   "name": "python",
   "nbconvert_exporter": "python",
   "pygments_lexer": "ipython3",
   "version": "3.10.8"
  }
 },
 "nbformat": 4,
 "nbformat_minor": 5
}
